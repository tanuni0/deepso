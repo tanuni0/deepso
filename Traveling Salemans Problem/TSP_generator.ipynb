{
 "cells": [
  {
   "cell_type": "code",
   "execution_count": 2,
   "metadata": {},
   "outputs": [
    {
     "name": "stdout",
     "output_type": "stream",
     "text": [
      "Generated 1600 TSP files in directory 'a:\\Code\\pso_rl\\tsp_instances'\n"
     ]
    }
   ],
   "source": [
    "import os\n",
    "import random\n",
    "\n",
    "def generate_tsp_file(file_name, num_cities):\n",
    "    \"\"\"\n",
    "    Generate a TSP file in .tsp format.\n",
    "\n",
    "    :param file_name: Name of the file to write\n",
    "    :param num_cities: Number of cities for the TSP problem\n",
    "    \"\"\"\n",
    "    with open(file_name, 'w') as f:\n",
    "        f.write(f\"NAME: {file_name}\\n\")\n",
    "        f.write(\"TYPE: TSP\\n\")\n",
    "        f.write(f\"DIMENSION: {num_cities}\\n\")\n",
    "        f.write(\"EDGE_WEIGHT_TYPE: EUC_2D\\n\")\n",
    "        f.write(\"NODE_COORD_SECTION\\n\")\n",
    "\n",
    "        for city in range(1, num_cities + 1):\n",
    "            x = random.uniform(0, 1000)\n",
    "            y = random.uniform(0, 1000)\n",
    "            f.write(f\"{city} {x:.6f} {y:.6f}\\n\")\n",
    "\n",
    "        f.write(\"EOF\\n\")\n",
    "\n",
    "def generate_multiple_tsp_files(output_dir, num_files, city_range):\n",
    "    \"\"\"\n",
    "    Generate multiple TSP files in .tsp format.\n",
    "\n",
    "    :param output_dir: Directory to save the files\n",
    "    :param num_files: Number of TSP files to generate\n",
    "    :param city_range: Tuple indicating the range of cities (min_cities, max_cities)\n",
    "    \"\"\"\n",
    "    if not os.path.exists(output_dir):\n",
    "        os.makedirs(output_dir)\n",
    "\n",
    "    for i in range(1, num_files + 1):\n",
    "        num_cities = random.randint(city_range[0], city_range[1])\n",
    "        file_name = os.path.join(output_dir, f\"tsp_problem_{i}.tsp\")\n",
    "        generate_tsp_file(file_name, num_cities)\n",
    "\n",
    "if __name__ == \"__main__\":\n",
    "    output_directory = os.path.join(os.getcwd(), \"tsp_instances\")\n",
    "    number_of_files = 1600\n",
    "    cities_range = (20, 200)\n",
    "\n",
    "    generate_multiple_tsp_files(output_directory, number_of_files, cities_range)\n",
    "    print(f\"Generated {number_of_files} TSP files in directory '{output_directory}'\")\n"
   ]
  },
  {
   "cell_type": "code",
   "execution_count": null,
   "metadata": {},
   "outputs": [],
   "source": []
  }
 ],
 "metadata": {
  "kernelspec": {
   "display_name": "base",
   "language": "python",
   "name": "python3"
  },
  "language_info": {
   "codemirror_mode": {
    "name": "ipython",
    "version": 3
   },
   "file_extension": ".py",
   "mimetype": "text/x-python",
   "name": "python",
   "nbconvert_exporter": "python",
   "pygments_lexer": "ipython3",
   "version": "3.11.5"
  }
 },
 "nbformat": 4,
 "nbformat_minor": 2
}
