{
 "cells": [
  {
   "cell_type": "markdown",
   "metadata": {},
   "source": [
    "### import library"
   ]
  },
  {
   "cell_type": "code",
   "execution_count": 4,
   "metadata": {},
   "outputs": [],
   "source": [
    "import torch\n",
    "import pickle"
   ]
  },
  {
   "cell_type": "code",
   "execution_count": 5,
   "metadata": {},
   "outputs": [],
   "source": [
    "from base_function import Ackley, Griewank, Largeman, Levy, Rastrigin, Buckin, CrossInTray, DropWave"
   ]
  },
  {
   "cell_type": "markdown",
   "metadata": {},
   "source": [
    "### generate data"
   ]
  },
  {
   "cell_type": "code",
   "execution_count": 6,
   "metadata": {},
   "outputs": [],
   "source": [
    "dims = list(range(1, 101))\n",
    "num = 1000\n",
    "\n",
    "ackley_params = Ackley.generate_functions(num, dims)\n",
    "griewank_params = Griewank.generate_functions(num, dims)\n",
    "largeman_params = Largeman.generate_functions(num, dims)\n",
    "levy_params = Levy.generate_functions(num, dims)\n",
    "rastrigin_params = Rastrigin.generate_functions(num, dims)\n",
    "\n",
    "buckin_params = Buckin.generate_functions(num, [2])\n",
    "crossintray_params = CrossInTray.generate_functions(num, [2])\n",
    "dropwave_params = DropWave.generate_functions(num, [2])\n",
    "\n",
    "all_functions_by_dim = {}\n",
    "\n",
    "for d in dims:\n",
    "    all_functions_by_dim[d] = {\n",
    "        'ackley': ackley_params[d],\n",
    "        'griewank': griewank_params[d],\n",
    "        'largeman': largeman_params[d],\n",
    "        'levy': levy_params[d],\n",
    "        'rastrigin': rastrigin_params[d]\n",
    "    }\n",
    "\n",
    "    if d == 2:\n",
    "        all_functions_by_dim[d].update({\n",
    "            'buckin': buckin_params[2],\n",
    "            'crossintray': crossintray_params[2],\n",
    "            'dropwave': dropwave_params[2]\n",
    "        })"
   ]
  },
  {
   "cell_type": "code",
   "execution_count": 7,
   "metadata": {},
   "outputs": [
    {
     "name": "stdout",
     "output_type": "stream",
     "text": [
      "All functions generated and saved to '/Users/admin/Code/deepso/parameter_dataset.pkl'\n"
     ]
    }
   ],
   "source": [
    "pickle_path = r'/Users/admin/Code/deepso/parameter_dataset.pkl'\n",
    "with open(pickle_path, 'wb') as f:\n",
    "    pass\n",
    "with open(pickle_path, 'wb') as f:\n",
    "    pickle.dump(all_functions_by_dim, f)\n",
    "\n",
    "print(f\"All functions generated and saved to '{pickle_path}'\")"
   ]
  },
  {
   "cell_type": "code",
   "execution_count": 8,
   "metadata": {},
   "outputs": [],
   "source": [
    "with open(pickle_path, 'rb') as f:\n",
    "    loaded_functions = pickle.load(f)"
   ]
  },
  {
   "cell_type": "code",
   "execution_count": 9,
   "metadata": {},
   "outputs": [
    {
     "name": "stdout",
     "output_type": "stream",
     "text": [
      "output of ackley torch.Size([10, 1])\n"
     ]
    }
   ],
   "source": [
    "dim = 3\n",
    "input_data = torch.rand(dim)\n",
    "params = loaded_functions[dim]['ackley'][1]\n",
    "x = torch.rand(10, 3)\n",
    "\n",
    "func = Ackley(x=x, params=params)\n",
    "print('output of ackley',func.evaluate_function().shape)"
   ]
  },
  {
   "cell_type": "code",
   "execution_count": 10,
   "metadata": {},
   "outputs": [
    {
     "name": "stdout",
     "output_type": "stream",
     "text": [
      "output of Griewank torch.Size([10, 1])\n"
     ]
    }
   ],
   "source": [
    "params = loaded_functions[dim]['griewank'][1]\n",
    "x = torch.rand(10, 3)\n",
    "\n",
    "func = Griewank(x=x, params=params)\n",
    "print('output of Griewank',func.evaluate_function().shape)"
   ]
  },
  {
   "cell_type": "code",
   "execution_count": 11,
   "metadata": {},
   "outputs": [
    {
     "name": "stdout",
     "output_type": "stream",
     "text": [
      "output of Levy torch.Size([10, 1])\n"
     ]
    }
   ],
   "source": [
    "params = loaded_functions[dim]['levy'][1]\n",
    "x = torch.rand(10, 3)\n",
    "\n",
    "func = Levy(x=x, params=params)\n",
    "print('output of Levy',func.evaluate_function().shape)"
   ]
  },
  {
   "cell_type": "code",
   "execution_count": 12,
   "metadata": {},
   "outputs": [
    {
     "name": "stdout",
     "output_type": "stream",
     "text": [
      "output of Largeman torch.Size([10, 1])\n"
     ]
    }
   ],
   "source": [
    "params = loaded_functions[dim]['largeman'][1]\n",
    "x = torch.rand(10, 3)\n",
    "\n",
    "func = Largeman(x=x, params=params)\n",
    "print('output of Largeman',func.evaluate_function().shape)"
   ]
  },
  {
   "cell_type": "code",
   "execution_count": null,
   "metadata": {},
   "outputs": [],
   "source": []
  }
 ],
 "metadata": {
  "kernelspec": {
   "display_name": "Python 3.11 (XPython Raw)",
   "language": "python",
   "name": "xpython-raw"
  },
  "language_info": {
   "file_extension": ".py",
   "mimetype": "text/x-python",
   "name": "python",
   "version": "3.11.7"
  }
 },
 "nbformat": 4,
 "nbformat_minor": 2
}
