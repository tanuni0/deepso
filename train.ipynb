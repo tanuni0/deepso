{
 "cells": [
  {
   "cell_type": "code",
   "execution_count": 4,
   "metadata": {},
   "outputs": [],
   "source": [
    "import torch\n",
    "import pickle\n",
    "import random\n",
    "import torch.nn as nn\n",
    "import torch.optim as optim\n",
    "import torch.nn.functional as F\n",
    "import torch_geometric.nn as gnn\n",
    "\n",
    "from torch.utils.data import Dataset, DataLoader, random_split\n",
    "from sklearn.model_selection import train_test_split\n",
    "from torch_geometric.data import Data"
   ]
  },
  {
   "cell_type": "code",
   "execution_count": 5,
   "metadata": {},
   "outputs": [],
   "source": [
    "from net import PSOGNN\n",
    "from pso import PSO \n",
    "from base_function import *"
   ]
  },
  {
   "cell_type": "code",
   "execution_count": 6,
   "metadata": {},
   "outputs": [],
   "source": [
    "splited_path = r'/Users/admin/Code/deepso/splited_data.pkl'\n",
    "with open(splited_path, 'rb') as f:\n",
    "    dataset = pickle.load(f)\n"
   ]
  },
  {
   "cell_type": "code",
   "execution_count": 7,
   "metadata": {},
   "outputs": [
    {
     "name": "stdout",
     "output_type": "stream",
     "text": [
      "{'dim': 1, 'func_type': 'ackley', 'params': [16.072515478646675, 0.2580391494351727, 4.971520742724884]}\n"
     ]
    }
   ],
   "source": [
    "train_set = dataset['train']\n",
    "print(train_set[0])"
   ]
  },
  {
   "cell_type": "code",
   "execution_count": 8,
   "metadata": {},
   "outputs": [],
   "source": [
    "def create_batches(dataset, batch_size): \n",
    "    random.shuffle(dataset)\n",
    "    for i in range(0, len(dataset), batch_size): \n",
    "        batch = dataset[i:i + batch_size]\n",
    "        yield batch"
   ]
  },
  {
   "cell_type": "code",
   "execution_count": 9,
   "metadata": {},
   "outputs": [],
   "source": [
    "batch_size = 16\n",
    "mini_batch_size = 4\n",
    "num_epochs = 10\n",
    "\n",
    "UB = 1\n",
    "LB = 0\n",
    "num_particles = 100\n",
    "\n",
    "def train(dataloader, accumulate_step):\n",
    "    for epoch in range(num_epochs):\n",
    "        print(f\"Epoch {epoch+1}/{num_epochs}\")\n",
    "        function_loader = create_batches(dataloader, batch_size)\n",
    "\n",
    "        for batch in function_loader:\n",
    "            # print(batch)\n",
    "            for i in range(0, len(batch), mini_batch_size):\n",
    "                mini_batch = batch[i : i + mini_batch_size]\n",
    "                # print('mini_batch', mini_batch)\n",
    "                for func in mini_batch: \n",
    "                    # print('func',func)\n",
    "                    # break\n",
    "                    dim = func['dim']\n",
    "                    func_type = func['func_type']\n",
    "                    params = func['params']\n",
    "\n",
    "                    def function(x):\n",
    "                        function_instance = Function.get_function(func_type, x, params)\n",
    "                        return function_instance.evaluate_function()\n",
    "                    \n",
    "                    X = torch.rand(num_particles, dim)\n",
    "                    model = PSOGNN(node_input_dim=dim)\n",
    "                    optimizer = torch.optim.Adam(model.parameters(), lr=0.001)\n",
    "\n",
    "                    Pso = PSO(X, function, model, LB, UB)\n",
    "                    position_best, best, mean_fitness = Pso.run()\n",
    "\n",
    "                    loss = mean_fitness\n",
    "                    loss = loss/accumulate_step\n",
    "                    loss.backward()\n",
    "                    \n",
    "                    if (i + 1) % accumulate_step == 0:\n",
    "                        optimizer.step()\n",
    "                        optimizer.zero_grad()\n",
    "\n",
    "\n"
   ]
  },
  {
   "cell_type": "code",
   "execution_count": 10,
   "metadata": {},
   "outputs": [
    {
     "name": "stdout",
     "output_type": "stream",
     "text": [
      "Epoch 1/10\n"
     ]
    }
   ],
   "source": [
    "\n",
    "train(train_set, accumulate_step=4)"
   ]
  },
  {
   "cell_type": "code",
   "execution_count": null,
   "metadata": {},
   "outputs": [],
   "source": [
    "def evaluate(dataloader):\n",
    "    total_loss = 0\n",
    "    total_functions = 0\n",
    "    function_loader = create_batches(dataloader, batch_size)\n",
    "    \n",
    "    # Evaluation mode (disable gradients)\n",
    "    with torch.no_grad():\n",
    "        for batch in function_loader:\n",
    "            for i in range(0, len(batch), mini_batch_size):\n",
    "                mini_batch = batch[i : i + mini_batch_size]\n",
    "                \n",
    "                for func in mini_batch: \n",
    "                    print('func', func)\n",
    "                    \n",
    "                    dim = func['dim']\n",
    "                    func_type = func['func_type']\n",
    "                    params = func['params']\n",
    "                    \n",
    "                    def function(x):\n",
    "                        function_instance = Function.get_function(func_type, x, params)\n",
    "                        return function_instance.evaluate_function()\n",
    "\n",
    "                    X = torch.rand(num_particles, dim)\n",
    "                    \n",
    "                    Pso = PSO(X, function, LB, UB)\n",
    "                    position_best, best, mean_fitness = Pso.run()\n",
    "\n",
    "                    total_loss += mean_fitness\n",
    "                    total_functions += 1\n",
    "\n",
    "    average_loss = total_loss / total_functions if total_functions > 0 else 0\n",
    "    return average_loss"
   ]
  },
  {
   "cell_type": "code",
   "execution_count": null,
   "metadata": {},
   "outputs": [],
   "source": []
  },
  {
   "cell_type": "markdown",
   "metadata": {},
   "source": []
  }
 ],
 "metadata": {
  "kernelspec": {
   "display_name": "Python 3.11 (XPython Raw)",
   "language": "python",
   "name": "xpython-raw"
  },
  "language_info": {
   "file_extension": ".py",
   "mimetype": "text/x-python",
   "name": "python",
   "version": "3.11.7"
  }
 },
 "nbformat": 4,
 "nbformat_minor": 2
}
