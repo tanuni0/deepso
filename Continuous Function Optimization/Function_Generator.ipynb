{
 "cells": [
  {
   "cell_type": "markdown",
   "metadata": {},
   "source": [
    "### Import library"
   ]
  },
  {
   "cell_type": "code",
   "execution_count": 1,
   "metadata": {},
   "outputs": [],
   "source": [
    "import torch\n",
    "import pickle"
   ]
  },
  {
   "cell_type": "code",
   "execution_count": 2,
   "metadata": {},
   "outputs": [],
   "source": [
    "from base_function import Ackley, Griewank, Largeman, Levy, Schwefel, StyblinskiTang, Zakharov"
   ]
  },
  {
   "cell_type": "markdown",
   "metadata": {},
   "source": [
    "### Generate data"
   ]
  },
  {
   "cell_type": "code",
   "execution_count": 3,
   "metadata": {},
   "outputs": [],
   "source": [
    "dims = list(range(1, 101))\n",
    "num = 200\n",
    "\n",
    "ackley_params = Ackley.generate_functions(num, dims)\n",
    "griewank_params = Griewank.generate_functions(num, dims)\n",
    "largeman_params = Largeman.generate_functions(num, dims)\n",
    "levy_params = Levy.generate_functions(num, dims)\n",
    "schwefel_params = Schwefel.generate_functions(num, dims)\n",
    "styblinski_tang_params = StyblinskiTang.generate_functions(num, dims)\n",
    "zakharov_params = Zakharov.generate_functions(num, dims)\n",
    "\n",
    "all_functions_by_dim = {}\n",
    "\n",
    "for d in dims:\n",
    "    all_functions_by_dim[d] = {\n",
    "        'ackley': ackley_params[d],\n",
    "        'griewank': griewank_params[d],\n",
    "        'largeman': largeman_params[d],\n",
    "        'levy': levy_params[d],\n",
    "        'schwefel': schwefel_params[d],\n",
    "        'styblinski_tang': styblinski_tang_params[d],\n",
    "        'zakharov': zakharov_params[d],\n",
    "    }"
   ]
  },
  {
   "cell_type": "code",
   "execution_count": null,
   "metadata": {},
   "outputs": [],
   "source": [
    "pickle_path = r'A:\\Code\\pso_rl\\data\\parameter_dataset.pkl'\n",
    "with open(pickle_path, 'wb') as f:\n",
    "    pass\n",
    "with open(pickle_path, 'wb') as f:\n",
    "    pickle.dump(all_functions_by_dim, f)\n",
    "\n",
    "print(f\"All functions generated and saved to '{pickle_path}'\")"
   ]
  },
  {
   "cell_type": "code",
   "execution_count": 5,
   "metadata": {},
   "outputs": [],
   "source": [
    "with open(pickle_path, 'rb') as f:\n",
    "    loaded_functions = pickle.load(f)"
   ]
  }
 ],
 "metadata": {
  "kernelspec": {
   "display_name": "base",
   "language": "python",
   "name": "python3"
  },
  "language_info": {
   "codemirror_mode": {
    "name": "ipython",
    "version": 3
   },
   "file_extension": ".py",
   "mimetype": "text/x-python",
   "name": "python",
   "nbconvert_exporter": "python",
   "pygments_lexer": "ipython3",
   "version": "3.11.5"
  }
 },
 "nbformat": 4,
 "nbformat_minor": 2
}
