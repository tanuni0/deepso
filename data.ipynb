{
 "cells": [
  {
   "cell_type": "markdown",
   "metadata": {},
   "source": [
    "### Import the library"
   ]
  },
  {
   "cell_type": "code",
   "execution_count": 1,
   "metadata": {},
   "outputs": [],
   "source": [
    "import torch\n",
    "import pickle\n",
    "\n",
    "from torch.utils.data import Dataset, DataLoader, random_split\n",
    "from sklearn.model_selection import train_test_split\n",
    "from torch_geometric.data import Data"
   ]
  },
  {
   "cell_type": "code",
   "execution_count": 2,
   "metadata": {},
   "outputs": [],
   "source": [
    "\n",
    "from base_function import *"
   ]
  },
  {
   "cell_type": "markdown",
   "metadata": {},
   "source": [
    "### Data Preparation"
   ]
  },
  {
   "cell_type": "code",
   "execution_count": 4,
   "metadata": {},
   "outputs": [],
   "source": [
    "pickle_path = r'A:\\Code\\deepso\\parameter_dataset.pkl'\n",
    "with open(pickle_path, 'rb') as f:\n",
    "    \n",
    "    all_functions_by_dim = pickle.load(f)"
   ]
  },
  {
   "cell_type": "code",
   "execution_count": 5,
   "metadata": {},
   "outputs": [
    {
     "name": "stdout",
     "output_type": "stream",
     "text": [
      "split done\n"
     ]
    }
   ],
   "source": [
    "train_data_combined = []\n",
    "test_data_combined = []\n",
    "\n",
    "for d, func_dict in all_functions_by_dim.items():\n",
    "    for func_type, func_list in func_dict.items():\n",
    "        if func_type == \"largeman\" or func_type == \"crossintray\" or func_type == \"dropwave\" :\n",
    "            continue\n",
    "        \n",
    "        train_funcs, test_funcs = train_test_split(func_list, test_size=0.3, random_state=42)\n",
    "\n",
    "        train_data_combined.extend([{'dim': d, 'func_type': func_type, 'params': params} for params in train_funcs])\n",
    "        test_data_combined.extend([{'dim': d, 'func_type': func_type, 'params': params} for params in test_funcs])\n",
    "\n",
    "print('split done')\n"
   ]
  },
  {
   "cell_type": "code",
   "execution_count": 6,
   "metadata": {},
   "outputs": [
    {
     "name": "stdout",
     "output_type": "stream",
     "text": [
      "Số lượng hàm có dim = 1 trong train_data_combined: Counter({'ackley': 700, 'griewank': 700, 'levy': 700, 'rastrigin': 700})\n",
      "Số lượng hàm có dim = 1 trong test_data_combined: Counter({'ackley': 300, 'griewank': 300, 'levy': 300, 'rastrigin': 300})\n"
     ]
    }
   ],
   "source": [
    "from collections import Counter\n",
    "\n",
    "def count_functions_by_dim(data_combined, dim_value):\n",
    "    # Tạo một Counter để đếm số lượng hàm của từng func_type với dim = dim_value\n",
    "    func_count_by_type = Counter()\n",
    "    \n",
    "    # Duyệt qua từng phần tử trong list\n",
    "    for item in data_combined:\n",
    "        # Kiểm tra nếu dim bằng giá trị mong muốn\n",
    "        if item['dim'] == dim_value:\n",
    "            func_count_by_type[item['func_type']] += 1\n",
    "    \n",
    "    return func_count_by_type\n",
    "\n",
    "# Đếm số hàm có dim = 1 trong train_data_combined\n",
    "train_func_count = count_functions_by_dim(train_data_combined, 1)\n",
    "print(\"Số lượng hàm có dim = 1 trong train_data_combined:\", train_func_count)\n",
    "\n",
    "# Đếm số hàm có dim = 1 trong test_data_combined\n",
    "test_func_count = count_functions_by_dim(test_data_combined, 1)\n",
    "print(\"Số lượng hàm có dim = 1 trong test_data_combined:\", test_func_count)\n"
   ]
  },
  {
   "cell_type": "code",
   "execution_count": 7,
   "metadata": {},
   "outputs": [
    {
     "name": "stdout",
     "output_type": "stream",
     "text": [
      "All functions split into combined train and test sets and saved to 'A:\\Code\\deepso\\splited_data_no.pkl'\n"
     ]
    }
   ],
   "source": [
    "splited_data = {'train': train_data_combined, 'test': test_data_combined}\n",
    "splited_path = r'A:\\Code\\deepso\\splited_data_no.pkl'\n",
    "with open(pickle_path, 'wb') as f:\n",
    "    pass\n",
    "with open(splited_path, 'wb') as f:\n",
    "    pickle.dump(splited_data, f)\n",
    "\n",
    "print(f\"All functions split into combined train and test sets and saved to '{splited_path}'\")"
   ]
  },
  {
   "cell_type": "code",
   "execution_count": 8,
   "metadata": {},
   "outputs": [],
   "source": [
    "def create_batches(dataset, batch_size): \n",
    "    random.shuffle(dataset)\n",
    "    for i in range(0, len(dataset), batch_size): \n",
    "        batch = dataset[i:i + batch_size]\n",
    "        yield batch"
   ]
  },
  {
   "cell_type": "code",
   "execution_count": null,
   "metadata": {},
   "outputs": [],
   "source": []
  }
 ],
 "metadata": {
  "kernelspec": {
   "display_name": "base",
   "language": "python",
   "name": "python3"
  },
  "language_info": {
   "codemirror_mode": {
    "name": "ipython",
    "version": 3
   },
   "file_extension": ".py",
   "mimetype": "text/x-python",
   "name": "python",
   "nbconvert_exporter": "python",
   "pygments_lexer": "ipython3",
   "version": "3.11.5"
  }
 },
 "nbformat": 4,
 "nbformat_minor": 2
}
